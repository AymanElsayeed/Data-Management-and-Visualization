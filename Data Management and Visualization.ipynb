{
 "cells": [
  {
   "cell_type": "code",
   "execution_count": 128,
   "metadata": {},
   "outputs": [],
   "source": [
    "import pandas as pd\n",
    "import numpy as np"
   ]
  },
  {
   "cell_type": "code",
   "execution_count": 129,
   "metadata": {},
   "outputs": [],
   "source": [
    "data = pd.read_csv(\"Add_health_pds.csv\",low_memory=False)"
   ]
  },
  {
   "cell_type": "markdown",
   "metadata": {},
   "source": [
    "# Frequency distributions for Daily Activities "
   ]
  },
  {
   "cell_type": "code",
   "execution_count": 130,
   "metadata": {},
   "outputs": [],
   "source": [
    "Daily_Activity_Vars   = [\"H1DA\"+str(i) for i in range(1,12) ]\n",
    "Daily_Activity_Vars.append(\"AID\")"
   ]
  },
  {
   "cell_type": "code",
   "execution_count": 131,
   "metadata": {},
   "outputs": [],
   "source": [
    "Gerneral_Health_Vars  = [i for i in data.columns if \"H1GH\" in i]\n",
    "Gerneral_Health_Vars.append(\"AID\")"
   ]
  },
  {
   "cell_type": "code",
   "execution_count": 132,
   "metadata": {},
   "outputs": [
    {
     "name": "stderr",
     "output_type": "stream",
     "text": [
      "/Users/ayman/anaconda3/lib/python3.6/site-packages/ipykernel_launcher.py:1: FutureWarning: convert_objects is deprecated.  Use the data-type specific converters pd.to_datetime, pd.to_timedelta and pd.to_numeric.\n",
      "  \"\"\"Entry point for launching an IPython kernel.\n"
     ]
    }
   ],
   "source": [
    "data['H1DA1'] = data['H1DA1'].convert_objects(convert_numeric=True)"
   ]
  },
  {
   "cell_type": "code",
   "execution_count": 133,
   "metadata": {},
   "outputs": [
    {
     "data": {
      "text/plain": [
       "numpy.dtype"
      ]
     },
     "execution_count": 133,
     "metadata": {},
     "output_type": "execute_result"
    }
   ],
   "source": [
    "type(data['H1DA1'].dtype)"
   ]
  },
  {
   "cell_type": "code",
   "execution_count": 134,
   "metadata": {},
   "outputs": [],
   "source": [
    "data['H1DA1'] = pd.to_numeric(data['H1DA1'])"
   ]
  },
  {
   "cell_type": "code",
   "execution_count": 135,
   "metadata": {},
   "outputs": [
    {
     "data": {
      "text/plain": [
       "pandas.core.series.Series"
      ]
     },
     "execution_count": 135,
     "metadata": {},
     "output_type": "execute_result"
    }
   ],
   "source": [
    "type(data['H1DA1'])"
   ]
  },
  {
   "cell_type": "markdown",
   "metadata": {},
   "source": [
    "## Selecting chosen variables and select columns, and possibly rows"
   ]
  },
  {
   "cell_type": "code",
   "execution_count": 136,
   "metadata": {},
   "outputs": [],
   "source": [
    "Daily_Activity_data =  data[Daily_Activity_Vars]"
   ]
  },
  {
   "cell_type": "code",
   "execution_count": 137,
   "metadata": {},
   "outputs": [],
   "source": [
    "Gerneral_Health_data = data[Gerneral_Health_Vars]"
   ]
  },
  {
   "cell_type": "markdown",
   "metadata": {},
   "source": [
    "**Frequency of Variable:H1GH44 , Quiz:What do you think your chances are of getting AIDS? **"
   ]
  },
  {
   "cell_type": "markdown",
   "metadata": {},
   "source": [
    "#### Coding record values "
   ]
  },
  {
   "cell_type": "code",
   "execution_count": 138,
   "metadata": {},
   "outputs": [],
   "source": [
    "T1 = {1:'Very high', 2:'high',3:'low',4:'very low',5:'no chance', 6:'refused', 8:'dont know', 9:'not applicable'}"
   ]
  },
  {
   "cell_type": "code",
   "execution_count": 140,
   "metadata": {},
   "outputs": [],
   "source": [
    "T2 = {0:'no',1:'yes',6:'refused',8:'dont know',9:'not applicable'}"
   ]
  },
  {
   "cell_type": "code",
   "execution_count": 139,
   "metadata": {},
   "outputs": [
    {
     "data": {
      "text/plain": [
       "H1GH44\n",
       "Very high     1.599016\n",
       "high          3.474785\n",
       "low          16.635916\n",
       "very low     30.857934\n",
       "no chance    46.586716\n",
       "refused       0.169127\n",
       "dont know     0.676507\n",
       "dtype: float64"
      ]
     },
     "execution_count": 139,
     "metadata": {},
     "output_type": "execute_result"
    }
   ],
   "source": [
    "Freq1 = (Gerneral_Health_data.groupby(Gerneral_Health_data['H1GH44']).size() / len(Gerneral_Health_data) *100).rename_axis(T1)\n",
    "Freq1"
   ]
  },
  {
   "cell_type": "markdown",
   "metadata": {},
   "source": [
    "**Frequency of Variable:H1GH53 , Quiz: During the past 12 months,haveyou ever spent the night away from home without permission? **  "
   ]
  },
  {
   "cell_type": "code",
   "execution_count": 141,
   "metadata": {},
   "outputs": [
    {
     "data": {
      "text/plain": [
       "H1GH53\n",
       "no                86.592866\n",
       "yes               13.161132\n",
       "refused            0.107626\n",
       "dont know          0.123001\n",
       "not applicable     0.015375\n",
       "dtype: float64"
      ]
     },
     "execution_count": 141,
     "metadata": {},
     "output_type": "execute_result"
    }
   ],
   "source": [
    "Freq2 = (Gerneral_Health_data.groupby(Gerneral_Health_data['H1GH53']).size() / len(Gerneral_Health_data) *100).rename_axis(T2)\n",
    "Freq2"
   ]
  },
  {
   "cell_type": "markdown",
   "metadata": {},
   "source": [
    "**Frequency of Variable:H1GH46 , Quiz: What do you think your chances are of getting another sexually transmitted disease, such as gonorrhea or genital herpes? **   "
   ]
  },
  {
   "cell_type": "code",
   "execution_count": 142,
   "metadata": {},
   "outputs": [
    {
     "data": {
      "text/plain": [
       "H1GH46\n",
       "Very high          1.107011\n",
       "high               2.936654\n",
       "low               13.499385\n",
       "very low          28.090406\n",
       "no chance         53.121156\n",
       "refused            0.307503\n",
       "dont know          0.922509\n",
       "not applicable     0.015375\n",
       "dtype: float64"
      ]
     },
     "execution_count": 142,
     "metadata": {},
     "output_type": "execute_result"
    }
   ],
   "source": [
    "Freq3 = (Gerneral_Health_data.groupby(Gerneral_Health_data['H1GH46']).size() / len(Gerneral_Health_data) *100).rename_axis(T1)\n",
    "Freq3"
   ]
  },
  {
   "cell_type": "markdown",
   "metadata": {},
   "source": [
    "#  implement data management decisions for the variables"
   ]
  },
  {
   "cell_type": "markdown",
   "metadata": {},
   "source": [
    "## Drop missing data"
   ]
  },
  {
   "cell_type": "code",
   "execution_count": 143,
   "metadata": {},
   "outputs": [
    {
     "name": "stderr",
     "output_type": "stream",
     "text": [
      "/Users/ayman/anaconda3/lib/python3.6/site-packages/pandas/core/frame.py:2352: SettingWithCopyWarning: \n",
      "A value is trying to be set on a copy of a slice from a DataFrame.\n",
      "Try using .loc[row_indexer,col_indexer] = value instead\n",
      "\n",
      "See the caveats in the documentation: http://pandas.pydata.org/pandas-docs/stable/indexing.html#indexing-view-versus-copy\n",
      "  self[k1] = value[k2]\n"
     ]
    }
   ],
   "source": [
    "Gerneral_Health_data[Gerneral_Health_Vars] = Gerneral_Health_data[Gerneral_Health_Vars].replace(8,np.nan)"
   ]
  },
  {
   "cell_type": "code",
   "execution_count": null,
   "metadata": {},
   "outputs": [],
   "source": []
  },
  {
   "cell_type": "code",
   "execution_count": 144,
   "metadata": {},
   "outputs": [
    {
     "data": {
      "text/plain": [
       "H1GH44\n",
       "Very high     1.599016\n",
       "high          3.474785\n",
       "low          16.635916\n",
       "very low     30.857934\n",
       "no chance    46.586716\n",
       "refused       0.169127\n",
       "dtype: float64"
      ]
     },
     "execution_count": 144,
     "metadata": {},
     "output_type": "execute_result"
    }
   ],
   "source": [
    "Freq1 = (Gerneral_Health_data.groupby(Gerneral_Health_data['H1GH44']).size() / len(Gerneral_Health_data) *100).rename_axis(T1)\n",
    "Freq1"
   ]
  },
  {
   "cell_type": "code",
   "execution_count": 145,
   "metadata": {},
   "outputs": [
    {
     "data": {
      "text/plain": [
       "H1GH53\n",
       "no                86.592866\n",
       "yes               13.161132\n",
       "refused            0.107626\n",
       "not applicable     0.015375\n",
       "dtype: float64"
      ]
     },
     "execution_count": 145,
     "metadata": {},
     "output_type": "execute_result"
    }
   ],
   "source": [
    "Freq2 = (Gerneral_Health_data.groupby(Gerneral_Health_data['H1GH53']).size() / len(Gerneral_Health_data) *100).rename_axis(T2)\n",
    "Freq2"
   ]
  },
  {
   "cell_type": "code",
   "execution_count": 146,
   "metadata": {},
   "outputs": [
    {
     "data": {
      "text/plain": [
       "H1GH46\n",
       "Very high          1.107011\n",
       "high               2.936654\n",
       "low               13.499385\n",
       "very low          28.090406\n",
       "no chance         53.121156\n",
       "refused            0.307503\n",
       "not applicable     0.015375\n",
       "dtype: float64"
      ]
     },
     "execution_count": 146,
     "metadata": {},
     "output_type": "execute_result"
    }
   ],
   "source": [
    "Freq3 = (Gerneral_Health_data.groupby(Gerneral_Health_data['H1GH46']).size() / len(Gerneral_Health_data) *100).rename_axis(T1)\n",
    "Freq3"
   ]
  },
  {
   "cell_type": "code",
   "execution_count": null,
   "metadata": {},
   "outputs": [],
   "source": []
  },
  {
   "cell_type": "code",
   "execution_count": null,
   "metadata": {},
   "outputs": [],
   "source": []
  },
  {
   "cell_type": "code",
   "execution_count": null,
   "metadata": {},
   "outputs": [],
   "source": []
  }
 ],
 "metadata": {
  "kernelspec": {
   "display_name": "Python 3",
   "language": "python",
   "name": "python3"
  },
  "language_info": {
   "codemirror_mode": {
    "name": "ipython",
    "version": 3
   },
   "file_extension": ".py",
   "mimetype": "text/x-python",
   "name": "python",
   "nbconvert_exporter": "python",
   "pygments_lexer": "ipython3",
   "version": "3.6.3"
  }
 },
 "nbformat": 4,
 "nbformat_minor": 2
}
