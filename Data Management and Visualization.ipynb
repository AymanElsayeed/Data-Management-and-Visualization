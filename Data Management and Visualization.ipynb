{
 "cells": [
  {
   "cell_type": "code",
   "execution_count": 1,
   "metadata": {},
   "outputs": [],
   "source": [
    "import pandas as pd"
   ]
  },
  {
   "cell_type": "code",
   "execution_count": 2,
   "metadata": {},
   "outputs": [],
   "source": [
    "data = pd.read_csv(\"Add_health_pds.csv\",low_memory=False)"
   ]
  },
  {
   "cell_type": "markdown",
   "metadata": {},
   "source": [
    "# Frequency distributions for Daily Activities "
   ]
  },
  {
   "cell_type": "code",
   "execution_count": 43,
   "metadata": {},
   "outputs": [],
   "source": [
    "Daily_Activity_Vars   = [\"H1DA\"+str(i) for i in range(1,12) ]"
   ]
  },
  {
   "cell_type": "code",
   "execution_count": 44,
   "metadata": {},
   "outputs": [],
   "source": [
    "Gerneral_Health_Vars  = [i for i in data.columns if \"H1GH\" in i]"
   ]
  },
  {
   "cell_type": "markdown",
   "metadata": {},
   "source": [
    "## Selecting chosen variables and select columns, and possibly rows"
   ]
  },
  {
   "cell_type": "code",
   "execution_count": 45,
   "metadata": {},
   "outputs": [],
   "source": [
    "Daily_Activity_data =  data[Daily_Activity_Vars]"
   ]
  },
  {
   "cell_type": "code",
   "execution_count": 46,
   "metadata": {},
   "outputs": [],
   "source": [
    "Gerneral_Health_data = data[Gerneral_Health_Vars]"
   ]
  },
  {
   "cell_type": "markdown",
   "metadata": {},
   "source": [
    "**Frequency of Variable:H1GH44 , Quiz:What do you think your chances are of getting AIDS? **"
   ]
  },
  {
   "cell_type": "code",
   "execution_count": 122,
   "metadata": {},
   "outputs": [],
   "source": [
    "T1 = {1:'Very high', 2:'high',3:'low',4:'very low',5:'no chance', 6:'refused', 8:'dont know', 9:'not applicable'}"
   ]
  },
  {
   "cell_type": "code",
   "execution_count": 123,
   "metadata": {},
   "outputs": [
    {
     "data": {
      "text/plain": [
       "H1GH44\n",
       "Very high     1.599016\n",
       "high          3.474785\n",
       "low          16.635916\n",
       "very low     30.857934\n",
       "no chance    46.586716\n",
       "refused       0.169127\n",
       "dont know     0.676507\n",
       "dtype: float64"
      ]
     },
     "execution_count": 123,
     "metadata": {},
     "output_type": "execute_result"
    }
   ],
   "source": [
    "(Gerneral_Health_data.groupby(Gerneral_Health_data['H1GH44']).size() / len(Gerneral_Health_data) *100).rename_axis(T1)"
   ]
  },
  {
   "cell_type": "markdown",
   "metadata": {},
   "source": [
    "**Frequency of Variable:H1GH53 , Quiz: During the past 12 months,haveyou ever spent the night away from home without permission? **  "
   ]
  },
  {
   "cell_type": "code",
   "execution_count": 125,
   "metadata": {},
   "outputs": [],
   "source": [
    "T2 = {0:'no',1:'yes',6:'refused',8:'dont know',9:'not applicable'}"
   ]
  },
  {
   "cell_type": "code",
   "execution_count": 126,
   "metadata": {},
   "outputs": [
    {
     "data": {
      "text/plain": [
       "H1GH53\n",
       "no                86.592866\n",
       "yes               13.161132\n",
       "refused            0.107626\n",
       "dont know          0.123001\n",
       "not applicable     0.015375\n",
       "dtype: float64"
      ]
     },
     "execution_count": 126,
     "metadata": {},
     "output_type": "execute_result"
    }
   ],
   "source": [
    "(Gerneral_Health_data.groupby(Gerneral_Health_data['H1GH53']).size() / len(Gerneral_Health_data) *100).rename_axis(T2)"
   ]
  },
  {
   "cell_type": "markdown",
   "metadata": {},
   "source": [
    "**Frequency of Variable:H1GH46 , Quiz: What do you think your chances are of getting another sexually transmitted disease, such as gonorrhea or genital herpes? **   "
   ]
  },
  {
   "cell_type": "code",
   "execution_count": 128,
   "metadata": {},
   "outputs": [
    {
     "data": {
      "text/plain": [
       "H1GH46\n",
       "Very high          1.107011\n",
       "high               2.936654\n",
       "low               13.499385\n",
       "very low          28.090406\n",
       "no chance         53.121156\n",
       "refused            0.307503\n",
       "dont know          0.922509\n",
       "not applicable     0.015375\n",
       "dtype: float64"
      ]
     },
     "execution_count": 128,
     "metadata": {},
     "output_type": "execute_result"
    }
   ],
   "source": [
    "(Gerneral_Health_data.groupby(Gerneral_Health_data['H1GH46']).size() / len(Gerneral_Health_data) *100).rename_axis(T1)"
   ]
  },
  {
   "cell_type": "code",
   "execution_count": null,
   "metadata": {},
   "outputs": [],
   "source": []
  }
 ],
 "metadata": {
  "kernelspec": {
   "display_name": "Python 3",
   "language": "python",
   "name": "python3"
  },
  "language_info": {
   "codemirror_mode": {
    "name": "ipython",
    "version": 3
   },
   "file_extension": ".py",
   "mimetype": "text/x-python",
   "name": "python",
   "nbconvert_exporter": "python",
   "pygments_lexer": "ipython3",
   "version": "3.6.3"
  }
 },
 "nbformat": 4,
 "nbformat_minor": 2
}
